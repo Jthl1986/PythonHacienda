{
  "nbformat": 4,
  "nbformat_minor": 0,
  "metadata": {
    "colab": {
      "name": "Untitled0.ipynb",
      "provenance": [],
      "authorship_tag": "ABX9TyOusqQ2gFWb8quASaOqe/R1",
      "include_colab_link": true
    },
    "kernelspec": {
      "name": "python3",
      "display_name": "Python 3"
    },
    "language_info": {
      "name": "python"
    }
  },
  "cells": [
    {
      "cell_type": "markdown",
      "metadata": {
        "id": "view-in-github",
        "colab_type": "text"
      },
      "source": [
        "<a href=\"https://colab.research.google.com/github/Jthl1986/PythonHacienda/blob/main/Hacienda.ipynb\" target=\"_parent\"><img src=\"https://colab.research.google.com/assets/colab-badge.svg\" alt=\"Open In Colab\"/></a>"
      ]
    },
    {
      "cell_type": "code",
      "execution_count": 72,
      "metadata": {
        "colab": {
          "base_uri": "https://localhost:8080/"
        },
        "id": "xarllZ5zlqu_",
        "outputId": "8f803d7b-4e3c-4899-c02f-cd4f332a4dad"
      },
      "outputs": [
        {
          "output_type": "stream",
          "name": "stdout",
          "text": [
            "ingrese tipo de hacienda: vaca\n",
            "                     categoria  promedio\n",
            "19  Vacas CUT CON GTÍA/ PREÑEZ  $ 104000\n",
            "Los precios considerados son de la Semana: 23/05/2022 al 30/05/2022\n"
          ]
        }
      ],
      "source": [
        "import pandas as pd\n",
        "import numpy as np\n",
        "df=pd.read_html('https://www.monasterio-tattersall.com/precios-hacienda') #leo la tabla de la página\n",
        "df[0] \n",
        "hacienda = df[0] #asigno una variable a la tabla\n",
        "categoria = hacienda.Categoría #creo las series\n",
        "promedio = hacienda.Promedio\n",
        "tabla = pd.DataFrame({'categoria':categoria,'promedio':promedio}) #creo un dataframe con categoria y promedio\n",
        "ternero=tabla[0:4] \n",
        "novillito=tabla[4:7]\n",
        "ternera=tabla[7:11]\n",
        "vaquillona=tabla[11:14]\n",
        "vaca=tabla[19:20]\n",
        "fecha=(tabla[24:25].values)[0][0]\n",
        "\n",
        "#hacer una función que pida tipo, cantidad y peso y que devuelva cuando con los input y valuacion\n",
        "tipo=input('ingrese tipo de hacienda: ')\n",
        "if tipo == 'ternera':\n",
        "  print(ternera)\n",
        "elif tipo== 'ternero':\n",
        "  print(ternero)\n",
        "elif tipo== 'novillito':\n",
        "  print(novillito)\n",
        "elif tipo== 'vaquillona':\n",
        "  print(vaquillona)\n",
        "elif tipo== 'vaca':\n",
        "  print(vaca)\n",
        "else:\n",
        "  print('No es una categoría válida')\n",
        "print(f'Los precios considerados son de la {fecha}')"
      ]
    },
    {
      "cell_type": "code",
      "source": [
        ""
      ],
      "metadata": {
        "id": "26XiQqW5l-Wu"
      },
      "execution_count": null,
      "outputs": []
    }
  ]
}